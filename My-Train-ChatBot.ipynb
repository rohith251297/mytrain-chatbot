{
 "cells": [
  {
   "cell_type": "markdown",
   "id": "6fe0ad23",
   "metadata": {},
   "source": [
    "# MyTrain Chatbot!"
   ]
  },
  {
   "cell_type": "markdown",
   "id": "d7841182",
   "metadata": {},
   "source": [
    "# Step 1 :  Importing Libraries"
   ]
  },
  {
   "cell_type": "code",
   "execution_count": 1,
   "id": "2bb158bc",
   "metadata": {},
   "outputs": [],
   "source": [
    "import pandas as pd\n",
    "import nltk\n",
    "from nltk.tokenize import word_tokenize\n",
    "from nltk.corpus import stopwords"
   ]
  },
  {
   "cell_type": "markdown",
   "id": "fa18e5b9",
   "metadata": {},
   "source": [
    "# Step 2: Dataset Path"
   ]
  },
  {
   "cell_type": "code",
   "execution_count": 2,
   "id": "9b00447d",
   "metadata": {},
   "outputs": [
    {
     "name": "stderr",
     "output_type": "stream",
     "text": [
      "C:\\Users\\rohit\\AppData\\Local\\Temp\\ipykernel_17648\\3466610178.py:2: DtypeWarning: Columns (0,2,7) have mixed types. Specify dtype option on import or set low_memory=False.\n",
      "  df = pd.read_csv(dataset_path)\n"
     ]
    },
    {
     "data": {
      "text/html": [
       "<div>\n",
       "<style scoped>\n",
       "    .dataframe tbody tr th:only-of-type {\n",
       "        vertical-align: middle;\n",
       "    }\n",
       "\n",
       "    .dataframe tbody tr th {\n",
       "        vertical-align: top;\n",
       "    }\n",
       "\n",
       "    .dataframe thead th {\n",
       "        text-align: right;\n",
       "    }\n",
       "</style>\n",
       "<table border=\"1\" class=\"dataframe\">\n",
       "  <thead>\n",
       "    <tr style=\"text-align: right;\">\n",
       "      <th></th>\n",
       "      <th>Train No</th>\n",
       "      <th>Train Name</th>\n",
       "      <th>SEQ</th>\n",
       "      <th>Station Code</th>\n",
       "      <th>Station Name</th>\n",
       "      <th>Arrival time</th>\n",
       "      <th>Departure Time</th>\n",
       "      <th>Distance</th>\n",
       "      <th>Source Station</th>\n",
       "      <th>Source Station Name</th>\n",
       "      <th>Destination Station</th>\n",
       "      <th>Destination Station Name</th>\n",
       "    </tr>\n",
       "  </thead>\n",
       "  <tbody>\n",
       "    <tr>\n",
       "      <th>0</th>\n",
       "      <td>107</td>\n",
       "      <td>SWV-MAO-VLNK</td>\n",
       "      <td>1</td>\n",
       "      <td>SWV</td>\n",
       "      <td>SAWANTWADI R</td>\n",
       "      <td>00:00:00</td>\n",
       "      <td>10:25:00</td>\n",
       "      <td>0</td>\n",
       "      <td>SWV</td>\n",
       "      <td>SAWANTWADI ROAD</td>\n",
       "      <td>MAO</td>\n",
       "      <td>MADGOAN JN.</td>\n",
       "    </tr>\n",
       "    <tr>\n",
       "      <th>1</th>\n",
       "      <td>107</td>\n",
       "      <td>SWV-MAO-VLNK</td>\n",
       "      <td>2</td>\n",
       "      <td>THVM</td>\n",
       "      <td>THIVIM</td>\n",
       "      <td>11:06:00</td>\n",
       "      <td>11:08:00</td>\n",
       "      <td>32</td>\n",
       "      <td>SWV</td>\n",
       "      <td>SAWANTWADI ROAD</td>\n",
       "      <td>MAO</td>\n",
       "      <td>MADGOAN JN.</td>\n",
       "    </tr>\n",
       "    <tr>\n",
       "      <th>2</th>\n",
       "      <td>107</td>\n",
       "      <td>SWV-MAO-VLNK</td>\n",
       "      <td>3</td>\n",
       "      <td>KRMI</td>\n",
       "      <td>KARMALI</td>\n",
       "      <td>11:28:00</td>\n",
       "      <td>11:30:00</td>\n",
       "      <td>49</td>\n",
       "      <td>SWV</td>\n",
       "      <td>SAWANTWADI ROAD</td>\n",
       "      <td>MAO</td>\n",
       "      <td>MADGOAN JN.</td>\n",
       "    </tr>\n",
       "    <tr>\n",
       "      <th>3</th>\n",
       "      <td>107</td>\n",
       "      <td>SWV-MAO-VLNK</td>\n",
       "      <td>4</td>\n",
       "      <td>MAO</td>\n",
       "      <td>MADGOAN JN.</td>\n",
       "      <td>12:10:00</td>\n",
       "      <td>00:00:00</td>\n",
       "      <td>78</td>\n",
       "      <td>SWV</td>\n",
       "      <td>SAWANTWADI ROAD</td>\n",
       "      <td>MAO</td>\n",
       "      <td>MADGOAN JN.</td>\n",
       "    </tr>\n",
       "    <tr>\n",
       "      <th>4</th>\n",
       "      <td>108</td>\n",
       "      <td>VLNK-MAO-SWV</td>\n",
       "      <td>1</td>\n",
       "      <td>MAO</td>\n",
       "      <td>MADGOAN JN.</td>\n",
       "      <td>00:00:00</td>\n",
       "      <td>20:30:00</td>\n",
       "      <td>0</td>\n",
       "      <td>MAO</td>\n",
       "      <td>MADGOAN JN.</td>\n",
       "      <td>SWV</td>\n",
       "      <td>SAWANTWADI ROAD</td>\n",
       "    </tr>\n",
       "  </tbody>\n",
       "</table>\n",
       "</div>"
      ],
      "text/plain": [
       "  Train No    Train Name SEQ Station Code  Station Name Arrival time  \\\n",
       "0      107  SWV-MAO-VLNK   1          SWV  SAWANTWADI R     00:00:00   \n",
       "1      107  SWV-MAO-VLNK   2         THVM        THIVIM     11:06:00   \n",
       "2      107  SWV-MAO-VLNK   3         KRMI       KARMALI     11:28:00   \n",
       "3      107  SWV-MAO-VLNK   4          MAO   MADGOAN JN.     12:10:00   \n",
       "4      108  VLNK-MAO-SWV   1          MAO   MADGOAN JN.     00:00:00   \n",
       "\n",
       "  Departure Time Distance Source Station Source Station Name  \\\n",
       "0       10:25:00        0            SWV     SAWANTWADI ROAD   \n",
       "1       11:08:00       32            SWV     SAWANTWADI ROAD   \n",
       "2       11:30:00       49            SWV     SAWANTWADI ROAD   \n",
       "3       00:00:00       78            SWV     SAWANTWADI ROAD   \n",
       "4       20:30:00        0            MAO         MADGOAN JN.   \n",
       "\n",
       "  Destination Station Destination Station Name  \n",
       "0                 MAO              MADGOAN JN.  \n",
       "1                 MAO              MADGOAN JN.  \n",
       "2                 MAO              MADGOAN JN.  \n",
       "3                 MAO              MADGOAN JN.  \n",
       "4                 SWV          SAWANTWADI ROAD  "
      ]
     },
     "execution_count": 2,
     "metadata": {},
     "output_type": "execute_result"
    }
   ],
   "source": [
    "dataset_path = \"R:/downloader/Train_details_22122017.csv\"\n",
    "df = pd.read_csv(dataset_path)\n",
    "df.head()"
   ]
  },
  {
   "cell_type": "markdown",
   "id": "43ce559a",
   "metadata": {},
   "source": [
    "# Step 3: Handling Missing Values"
   ]
  },
  {
   "cell_type": "code",
   "execution_count": 3,
   "id": "dd2da960",
   "metadata": {},
   "outputs": [
    {
     "data": {
      "text/plain": [
       "Train No                     0\n",
       "Train Name                   0\n",
       "SEQ                          0\n",
       "Station Code                 0\n",
       "Station Name                 0\n",
       "Arrival time                 5\n",
       "Departure Time               5\n",
       "Distance                     5\n",
       "Source Station              10\n",
       "Source Station Name         10\n",
       "Destination Station         10\n",
       "Destination Station Name    10\n",
       "dtype: int64"
      ]
     },
     "execution_count": 3,
     "metadata": {},
     "output_type": "execute_result"
    }
   ],
   "source": [
    "df.isnull().sum()"
   ]
  },
  {
   "cell_type": "code",
   "execution_count": 4,
   "id": "4066daa2",
   "metadata": {},
   "outputs": [],
   "source": [
    "# Replace missing arrival time and departure time with 'N/A'\n",
    "df['Arrival time'].fillna('N/A', inplace=True)\n",
    "df['Departure Time'].fillna('N/A', inplace=True)\n",
    "\n",
    "# Replace missing distance with a placeholder value like -1\n",
    "df['Distance'].fillna(-1, inplace=True)\n",
    "\n",
    "# Replace missing source station and destination station with 'Unknown'\n",
    "df['Source Station'].fillna('Unknown', inplace=True)\n",
    "df['Source Station Name'].fillna('Unknown', inplace=True)\n",
    "df['Destination Station'].fillna('Unknown', inplace=True)\n",
    "df['Destination Station Name'].fillna('Unknown', inplace=True)"
   ]
  },
  {
   "cell_type": "code",
   "execution_count": 5,
   "id": "c7c854fc",
   "metadata": {},
   "outputs": [
    {
     "data": {
      "text/plain": [
       "0"
      ]
     },
     "execution_count": 5,
     "metadata": {},
     "output_type": "execute_result"
    }
   ],
   "source": [
    "df.isnull().sum().sum()"
   ]
  },
  {
   "cell_type": "markdown",
   "id": "963207d7",
   "metadata": {},
   "source": [
    "# Step5: Function to Retrieve Train Information"
   ]
  },
  {
   "cell_type": "code",
   "execution_count": 6,
   "id": "d1cf4c51",
   "metadata": {},
   "outputs": [],
   "source": [
    "def get_train_info(source, destination):\n",
    "    source = source.lower()\n",
    "    destination = destination.lower()\n",
    "    \n",
    "    # Filter the DataFrame for trains departing from the source station\n",
    "    source_trains = df[df['Source Station Name'].str.lower() == source]\n",
    "    #print(\"Source Trains:\", source_trains)\n",
    "    \n",
    "    # Filter the DataFrame for trains arriving at the destination station\n",
    "    destination_trains = df[df['Destination Station Name'].str.lower() == destination]\n",
    "    #print(\"Destination Trains:\", destination_trains)\n",
    "    \n",
    "    # Find common train numbers between source and destination stations\n",
    "    common_trains = set(source_trains['Train No']).intersection(set(destination_trains['Train No']))\n",
    "    #print(\"Common Trains:\", common_trains)\n",
    "    \n",
    "    # Initialize a list to store train information\n",
    "    train_info = []\n",
    "    \n",
    "    # Iterate over common train numbers and retrieve train information\n",
    "    for train_no in common_trains:\n",
    "        # Select rows corresponding to the current train number\n",
    "        train_data = df[df['Train No'] == train_no]\n",
    "        \n",
    "        # Append relevant train information to train_info list\n",
    "        train_info.append({\n",
    "            'Train No': train_no,\n",
    "            'Train Name': train_data.iloc[0]['Train Name'],\n",
    "            'Departure Time': train_data.iloc[0]['Departure Time'],\n",
    "            'Arrival Time': train_data.iloc[-1]['Arrival time'],\n",
    "            'Travel Duration': (pd.to_datetime(train_data.iloc[-1]['Arrival time']) - pd.to_datetime(train_data.iloc[0]['Departure Time'])).total_seconds() / 3600\n",
    "            # Add more information as needed\n",
    "        })\n",
    "    \n",
    "    return train_info"
   ]
  },
  {
   "cell_type": "markdown",
   "id": "1357e5cb",
   "metadata": {},
   "source": [
    "# Step 6: Main Function "
   ]
  },
  {
   "cell_type": "code",
   "execution_count": null,
   "id": "41ab8de7",
   "metadata": {},
   "outputs": [
    {
     "name": "stdout",
     "output_type": "stream",
     "text": [
      "Welcome to MyTrain Chatbot!\n"
     ]
    }
   ],
   "source": [
    "def main():\n",
    "    print(\"Welcome to MyTrain Chatbot!\")\n",
    "    while True:\n",
    "        user_input = input(\"Please enter your source station: \")\n",
    "        if user_input.lower() == 'exit':\n",
    "            print(\"Thank you for using MyTrain Chatbot!\")\n",
    "            break\n",
    "        source_station = user_input\n",
    "        \n",
    "        user_input = input(\"Please enter your destination station: \")\n",
    "        if user_input.lower() == 'exit':\n",
    "            print(\"Thank you for using MyTrain Chatbot!\")\n",
    "            break\n",
    "        destination_station = user_input\n",
    "        \n",
    "        train_info = get_train_info(source_station, destination_station)\n",
    "        if not train_info:\n",
    "            print(\"No trains found between the specified stations. Please try again.\")\n",
    "            continue\n",
    "        \n",
    "        # Convert the list of dictionaries to a DataFrame\n",
    "        train_info_df = pd.DataFrame(train_info)\n",
    "        \n",
    "        # Check if the DataFrame is empty\n",
    "        if train_info_df.empty:\n",
    "            print(\"No trains found between the specified stations. Please try again.\")\n",
    "            continue\n",
    "        print(\"  \")\n",
    "        print(train_info_df)\n",
    "        \n",
    "if __name__ == \"__main__\":\n",
    "    main()"
   ]
  }
 ],
 "metadata": {
  "kernelspec": {
   "display_name": "Python 3 (ipykernel)",
   "language": "python",
   "name": "python3"
  },
  "language_info": {
   "codemirror_mode": {
    "name": "ipython",
    "version": 3
   },
   "file_extension": ".py",
   "mimetype": "text/x-python",
   "name": "python",
   "nbconvert_exporter": "python",
   "pygments_lexer": "ipython3",
   "version": "3.10.9"
  }
 },
 "nbformat": 4,
 "nbformat_minor": 5
}
